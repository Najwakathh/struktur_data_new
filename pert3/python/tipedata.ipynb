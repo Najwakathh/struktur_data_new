{
 "cells": [
  {
   "cell_type": "code",
   "execution_count": null,
   "id": "eb6fad9c",
   "metadata": {},
   "outputs": [],
   "source": [
    "o = None\n",
    "print(o)\n",
    "print(type(o))"
   ]
  },
  {
   "cell_type": "code",
   "execution_count": null,
   "id": "509a750f",
   "metadata": {},
   "outputs": [],
   "source": [
    "n = memoryview(bytes(5))\n",
    "print(n)\n",
    "print(type(n))"
   ]
  },
  {
   "cell_type": "code",
   "execution_count": null,
   "id": "35bb7eeb",
   "metadata": {},
   "outputs": [],
   "source": [
    "m = bytearray(5)\n",
    "print(m)\n",
    "print(type(m))"
   ]
  },
  {
   "cell_type": "code",
   "execution_count": null,
   "id": "95997a0d",
   "metadata": {},
   "outputs": [],
   "source": [
    "l = b\"hello\"\n",
    "print(l)\n",
    "print(type(l))"
   ]
  },
  {
   "cell_type": "code",
   "execution_count": null,
   "id": "888eb25f",
   "metadata": {},
   "outputs": [],
   "source": [
    "k = True\n",
    "print(k)\n",
    "print(type(k))"
   ]
  },
  {
   "cell_type": "code",
   "execution_count": null,
   "id": "bc042e46",
   "metadata": {},
   "outputs": [],
   "source": [
    "j = frozenset({\"ani\", \"budi\"})\n",
    "print(j)\n",
    "print(type(j))"
   ]
  },
  {
   "cell_type": "code",
   "execution_count": null,
   "id": "b84e3faa",
   "metadata": {},
   "outputs": [],
   "source": [
    "i = {\"nama\" : \"ani\"}\n",
    "print(i)\n",
    "print(type(i))"
   ]
  },
  {
   "cell_type": "code",
   "execution_count": null,
   "id": "221b23f5",
   "metadata": {},
   "outputs": [],
   "source": [
    "h = {\"ani\", \"budi\"}\n",
    "print(h)\n",
    "print(type(h))"
   ]
  },
  {
   "cell_type": "code",
   "execution_count": null,
   "id": "86bec6ee",
   "metadata": {},
   "outputs": [],
   "source": [
    "g = range(5)\n",
    "print(g)\n",
    "print(type(g))"
   ]
  },
  {
   "cell_type": "code",
   "execution_count": null,
   "id": "b3503d1b",
   "metadata": {},
   "outputs": [],
   "source": [
    "f = (\"a\",\"b\",\"c\")\n",
    "print(f)\n",
    "print(type(f))"
   ]
  },
  {
   "cell_type": "code",
   "execution_count": null,
   "id": "d53ad8e7",
   "metadata": {},
   "outputs": [],
   "source": [
    "e = [\"a\",\"b\",\"c\"]\n",
    "print(e)\n",
    "print(type(e))"
   ]
  },
  {
   "cell_type": "code",
   "execution_count": null,
   "id": "c62eb6aa",
   "metadata": {},
   "outputs": [],
   "source": [
    "d = 1j\n",
    "print(d)\n",
    "print(type(d))"
   ]
  },
  {
   "cell_type": "code",
   "execution_count": null,
   "id": "18dbfd06",
   "metadata": {},
   "outputs": [],
   "source": [
    "c = 10.5\n",
    "print(c)\n",
    "print(type(c))"
   ]
  },
  {
   "cell_type": "code",
   "execution_count": null,
   "id": "bffe2363",
   "metadata": {},
   "outputs": [],
   "source": [
    "name = \"hello\"\n",
    "print(name)\n",
    "print(type(name))"
   ]
  },
  {
   "cell_type": "code",
   "execution_count": null,
   "id": "a920c8d7",
   "metadata": {},
   "outputs": [
    {
     "ename": "",
     "evalue": "",
     "output_type": "error",
     "traceback": [
      "\u001b[1;31mRunning cells with 'Python 3.12.3' requires the ipykernel package.\n",
      "\u001b[1;31m<a href='command:jupyter.createPythonEnvAndSelectController'>Create a Python Environment</a> with the required packages.\n",
      "\u001b[1;31mOr install 'ipykernel' using the command: '/bin/python3 -m pip install ipykernel -U --user --force-reinstall'"
     ]
    }
   ],
   "source": [
    "num = 10;\n",
    "num2 = 10;\n",
    "\n",
    "print(num + num2)"
   ]
  }
 ],
 "metadata": {
  "kernelspec": {
   "display_name": "Python 3",
   "language": "python",
   "name": "python3"
  },
  "language_info": {
   "name": "python",
   "version": "3.12.3"
  }
 },
 "nbformat": 4,
 "nbformat_minor": 5
}
