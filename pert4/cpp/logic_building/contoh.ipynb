{
 "cells": [
  {
   "cell_type": "code",
   "execution_count": null,
   "id": "31ad3017",
   "metadata": {},
   "outputs": [],
   "source": [
    "nama = \"najwa\"\n",
    "x = len(nama)\n",
    "print(x)"
   ]
  },
  {
   "cell_type": "code",
   "execution_count": null,
   "id": "20fd995e",
   "metadata": {},
   "outputs": [],
   "source": [
    "a = 3\n",
    "b = 5\n",
    "c = a + b\n",
    "print(c)"
   ]
  },
  {
   "cell_type": "code",
   "execution_count": null,
   "id": "b94f4ba8",
   "metadata": {},
   "outputs": [],
   "source": [
    "def modulus_2:\n",
    "return number % 2\n",
    "\n",
    "angka = int(\"masukkan angka: \")\n",
    "hasil = modulus_2\n",
    "print(\"hasil\")"
   ]
  }
 ],
 "metadata": {
  "kernelspec": {
   "display_name": "Python 3",
   "language": "python",
   "name": "python3"
  },
  "language_info": {
   "name": "python",
   "version": "3.12.3"
  }
 },
 "nbformat": 4,
 "nbformat_minor": 5
}
