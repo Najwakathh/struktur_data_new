{
 "cells": [
  {
   "cell_type": "code",
   "execution_count": null,
   "id": "fb1a1804",
   "metadata": {},
   "outputs": [],
   "source": [
    "def printTable(n):\n",
    "\n",
    "    for i in range (1, 11): \n",
    "        \n",
    "        # multiples from 1 to 10\n",
    "        print (\"%d * %d = %d\" % (n, i, n * i))"
   ]
  },
  {
   "cell_type": "code",
   "execution_count": null,
   "id": "9631d7bb",
   "metadata": {},
   "outputs": [],
   "source": [
    "n = 5\n",
    "printTable(n)"
   ]
  }
 ],
 "metadata": {
  "kernelspec": {
   "display_name": "Python 3",
   "language": "python",
   "name": "python3"
  },
  "language_info": {
   "name": "python",
   "version": "3.12.3"
  }
 },
 "nbformat": 4,
 "nbformat_minor": 5
}
