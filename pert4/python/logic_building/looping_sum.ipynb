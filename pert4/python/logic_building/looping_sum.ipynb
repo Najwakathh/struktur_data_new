{
 "cells": [
  {
   "cell_type": "code",
   "execution_count": null,
   "id": "def81dc9",
   "metadata": {},
   "outputs": [],
   "source": [
    "def findSum(n):\n",
    "    sum = 0\n",
    "    x = 1\n",
    "    while x <= n:\n",
    "        sum = sum + x\n",
    "        x = x + 1\n",
    "    return sum"
   ]
  },
  {
   "cell_type": "code",
   "execution_count": null,
   "id": "6b9593e1",
   "metadata": {},
   "outputs": [],
   "source": [
    "n = 5\n",
    "print(findSum(n))"
   ]
  }
 ],
 "metadata": {
  "language_info": {
   "name": "python"
  }
 },
 "nbformat": 4,
 "nbformat_minor": 5
}
