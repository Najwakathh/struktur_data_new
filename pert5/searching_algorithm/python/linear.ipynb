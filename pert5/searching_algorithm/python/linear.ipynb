{
 "cells": [
  {
   "cell_type": "code",
   "execution_count": null,
   "id": "7d348280",
   "metadata": {},
   "outputs": [],
   "source": [
    "def ls(arr, target):\n",
    "    for i in range(len(arr)):\n",
    "        if arr[i] == target :\n",
    "            return i\n",
    "    return -1\n",
    "\n",
    "data = [1,3,7,5]\n",
    "target = 5\n",
    "result = ls(data, target)\n",
    "if result == -1:\n",
    "    print(\"not found\")\n",
    "else:\n",
    "    print(f\"found di index ke - : {result}\")"
   ]
  }
 ],
 "metadata": {
  "language_info": {
   "name": "python"
  }
 },
 "nbformat": 4,
 "nbformat_minor": 5
}
