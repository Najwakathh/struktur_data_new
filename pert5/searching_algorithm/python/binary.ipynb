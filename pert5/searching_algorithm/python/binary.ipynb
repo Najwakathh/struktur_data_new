{
 "cells": [
  {
   "cell_type": "code",
   "execution_count": null,
   "id": "dc391645",
   "metadata": {},
   "outputs": [],
   "source": [
    "def bs(arr, target):\n",
    "    left,right = 0, len(arr)-1\n",
    "    while left <= right :\n",
    "        mid = left + (right-left)//2\n",
    "        if arr[mid] == target: \n",
    "            return mid\n",
    "        elif arr[mid] < target:\n",
    "            left = mid + 1\n",
    "        else:\n",
    "            right = mid - 1\n",
    "    return -1"
   ]
  },
  {
   "cell_type": "code",
   "execution_count": null,
   "id": "9f559260",
   "metadata": {},
   "outputs": [],
   "source": [
    "result = bs(data,target)\n",
    "if result == -1:\n",
    "    print(\"not found\")\n",
    "else:\n",
    "    print(f\"found di indeks ke -  {result}\")"
   ]
  }
 ],
 "metadata": {
  "language_info": {
   "name": "python"
  }
 },
 "nbformat": 4,
 "nbformat_minor": 5
}
