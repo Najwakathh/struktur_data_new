{
 "cells": [
  {
   "cell_type": "code",
   "execution_count": null,
   "id": "912eecef",
   "metadata": {},
   "outputs": [],
   "source": [
    "def is(arr, target):\n",
    "    for i in range(len(arr)):\n",
    "        if arr[i] == target :\n",
    "            return i\n",
    "        return -i\n",
    "\n",
    "data = [1, 3, 7, 5]\n",
    "target = 5\n",
    "result = is(data, target)\n",
    "if result == -1\n",
    "    print(\"not found\")\n",
    "else :\n",
    "    print(f\"found di index ke - : {result}\")"
   ]
  }
 ],
 "metadata": {
  "language_info": {
   "name": "python"
  }
 },
 "nbformat": 4,
 "nbformat_minor": 5
}
